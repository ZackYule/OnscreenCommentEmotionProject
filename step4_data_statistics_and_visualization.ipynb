{
 "cells": [
  {
   "attachments": {},
   "cell_type": "markdown",
   "metadata": {},
   "source": [
    "# 情感曲线可视化"
   ]
  },
  {
   "cell_type": "markdown",
   "metadata": {},
   "source": [
    "## 预设"
   ]
  },
  {
   "cell_type": "markdown",
   "metadata": {},
   "source": [
    "### 导入库"
   ]
  },
  {
   "cell_type": "code",
   "execution_count": null,
   "metadata": {},
   "outputs": [],
   "source": [
    "import pandas as pd\n",
    "from utils import *\n",
    "import matplotlib.pyplot as plt\n",
    "import matplotlib"
   ]
  },
  {
   "cell_type": "markdown",
   "metadata": {},
   "source": [
    "### 全局参数"
   ]
  },
  {
   "cell_type": "code",
   "execution_count": null,
   "metadata": {},
   "outputs": [],
   "source": [
    "BulDataFilePath = f'data/bullet_chats_sentiment.pkl'\n",
    "SubDataFilePath = f'data/subtitle_sentiment.pkl'"
   ]
  },
  {
   "cell_type": "markdown",
   "metadata": {},
   "source": [
    "### 全局设置"
   ]
  },
  {
   "cell_type": "code",
   "execution_count": null,
   "metadata": {},
   "outputs": [],
   "source": [
    "# 支持中文\n",
    "print(matplotlib.matplotlib_fname())\n",
    "a=sorted([f.name for f in matplotlib.font_manager.fontManager.ttflist])\n",
    "for i in a:\n",
    "    if 'Song' in i:\n",
    "        print(i)\n",
    "plt.rcParams['font.sans-serif'] = ['Songti SC'] # 用来正常显示中文标签\n",
    "plt.rcParams['axes.unicode_minus'] = False # 用来正常显示负号\n",
    "# 显示清晰\n",
    "%matplotlib inline\n",
    "%config InlineBackend.figure_format = 'retina'"
   ]
  },
  {
   "cell_type": "markdown",
   "metadata": {},
   "source": [
    "## 函数工具"
   ]
  },
  {
   "cell_type": "code",
   "execution_count": null,
   "metadata": {},
   "outputs": [],
   "source": [
    "def time_cut(df, time_column_name, time_step = 1000):\n",
    "    bin = range(0, df[time_column_name].iloc[-1]+time_step, time_step)\n",
    "    df.loc[:,f'{time_column_name}_group']=pd.cut(df[time_column_name],bin,right=False)\n",
    "    return df"
   ]
  },
  {
   "cell_type": "markdown",
   "metadata": {},
   "source": [
    "## 数据读取"
   ]
  },
  {
   "cell_type": "code",
   "execution_count": null,
   "metadata": {},
   "outputs": [],
   "source": [
    "bullet_data = pd.read_pickle(BulDataFilePath)\n",
    "subtitle_data = pd.read_pickle(SubDataFilePath)"
   ]
  },
  {
   "cell_type": "code",
   "execution_count": null,
   "metadata": {},
   "outputs": [],
   "source": [
    "bullet_data = bullet_data[bullet_data['confidence'].notna()]\n",
    "subtitle_data = subtitle_data[subtitle_data['confidence'].notna()]"
   ]
  },
  {
   "cell_type": "code",
   "execution_count": null,
   "metadata": {},
   "outputs": [],
   "source": [
    "bullet_data['progress'] = bullet_data['progress'] + 30*1000"
   ]
  },
  {
   "attachments": {},
   "cell_type": "markdown",
   "metadata": {},
   "source": [
    "## 数据分析&可视化&保存"
   ]
  },
  {
   "attachments": {},
   "cell_type": "markdown",
   "metadata": {},
   "source": [
    "### 区间划分"
   ]
  },
  {
   "cell_type": "code",
   "execution_count": null,
   "metadata": {},
   "outputs": [],
   "source": [
    "bullet_data = time_cut(bullet_data, 'progress', 30*1000)\n",
    "subtitle_data = time_cut(subtitle_data, 'progress', 30*1000)"
   ]
  },
  {
   "cell_type": "code",
   "execution_count": null,
   "metadata": {},
   "outputs": [],
   "source": [
    "statistics_data_list = []\n",
    "for i in range(6):\n",
    "    num = i+1\n",
    "    bullet_data_mean = bullet_data[bullet_data['episode']==num].groupby('progress_group')[['confidence','negative_prob','positive_prob','sentiment']].agg('mean')\n",
    "    subtitle_data_mean = subtitle_data[subtitle_data['episode']==num].groupby('progress_group')[['confidence','negative_prob','positive_prob','sentiment']].agg('mean')\n",
    "    statistics_data = bullet_data_mean.join(subtitle_data_mean,lsuffix='_bullet', rsuffix='_subtitle')\n",
    "    statistics_data_list.append(statistics_data)"
   ]
  },
  {
   "cell_type": "code",
   "execution_count": null,
   "metadata": {},
   "outputs": [],
   "source": [
    "for i in range(len(statistics_data_list)):\n",
    "    ax = statistics_data_list[i].loc[:, ['sentiment_bullet','sentiment_subtitle']].plot(\n",
    "        figsize=(16, 10),\n",
    "        secondary_y=['gmv'],\n",
    "        x_compat=True,\n",
    "        grid=True)\n",
    "    ax.grid(visible=True, linestyle=\"--\", alpha=0.3)\n",
    "    plt.savefig(f'pic/{i}对比图.png')"
   ]
  },
  {
   "cell_type": "markdown",
   "metadata": {},
   "source": [
    "## 测试&playground"
   ]
  },
  {
   "cell_type": "code",
   "execution_count": null,
   "metadata": {},
   "outputs": [],
   "source": [
    "def get_data_form_time_cut(episode, progress_start, progress_end, bullet_data, subtitle_data):\n",
    "    bullet_res = bullet_data[(bullet_data['episode']==6)&(bullet_data['progress']<progress_end)&(bullet_data['progress']>=progress_start)][['positive_prob','content','progress']]\n",
    "    bullet_res['type'] = 'bullet'\n",
    "    subtitle_res = subtitle_data[(subtitle_data['episode']==6)&(subtitle_data['progress']<progress_end)&(subtitle_data['progress']>=progress_start)][['positive_prob','content','progress']]\n",
    "    subtitle_res['type'] = 'subtitle'\n",
    "    return pd.concat([bullet_res, subtitle_res], axis=1)"
   ]
  },
  {
   "cell_type": "code",
   "execution_count": null,
   "metadata": {},
   "outputs": [],
   "source": [
    "point1 = get_data_form_time_cut(6, 630000, 660000, bullet_data, subtitle_data)\n",
    "point1.to_excel('res/point1.xlsx')"
   ]
  },
  {
   "cell_type": "code",
   "execution_count": null,
   "metadata": {},
   "outputs": [],
   "source": [
    "point2 = get_data_form_time_cut(6, 1930000, 1960000, bullet_data, subtitle_data)\n",
    "point2.to_excel('res/point2.xlsx')"
   ]
  },
  {
   "cell_type": "code",
   "execution_count": null,
   "metadata": {},
   "outputs": [],
   "source": [
    "point3 = get_data_form_time_cut(6, 1860000, 1890000, bullet_data, subtitle_data)\n",
    "point3.to_excel('res/point3.xlsx')"
   ]
  },
  {
   "cell_type": "code",
   "execution_count": null,
   "metadata": {},
   "outputs": [],
   "source": [
    "point4 = get_data_form_time_cut(6, 1380000, 1410000, bullet_data, subtitle_data)\n",
    "point4.to_excel('res/point4.xlsx')"
   ]
  },
  {
   "cell_type": "code",
   "execution_count": null,
   "metadata": {},
   "outputs": [],
   "source": [
    "point5 = get_data_form_time_cut(6, 1170000, 1200000, bullet_data, subtitle_data)\n",
    "point5.to_excel('res/point5.xlsx')"
   ]
  }
 ],
 "metadata": {
  "kernelspec": {
   "display_name": "Python 3.11.0 64-bit ('NLP_Basic')",
   "language": "python",
   "name": "python3"
  },
  "language_info": {
   "codemirror_mode": {
    "name": "ipython",
    "version": 3
   },
   "file_extension": ".py",
   "mimetype": "text/x-python",
   "name": "python",
   "nbconvert_exporter": "python",
   "pygments_lexer": "ipython3",
   "version": "3.11.0"
  },
  "orig_nbformat": 4,
  "vscode": {
   "interpreter": {
    "hash": "5d27efa6b584b4c383956c6770d9f739e2ba2492e6938348fad3a5aa6f8302d1"
   }
  }
 },
 "nbformat": 4,
 "nbformat_minor": 2
}
