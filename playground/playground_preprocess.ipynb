{
 "cells": [
  {
   "cell_type": "markdown",
   "metadata": {},
   "source": [
    "# 处理尝试"
   ]
  },
  {
   "cell_type": "markdown",
   "metadata": {},
   "source": [
    "## 预处理"
   ]
  },
  {
   "cell_type": "code",
   "execution_count": 50,
   "metadata": {},
   "outputs": [],
   "source": [
    "import pandas as pd\n",
    "import time"
   ]
  },
  {
   "cell_type": "code",
   "execution_count": 51,
   "metadata": {},
   "outputs": [],
   "source": [
    "num = 6\n",
    "DataFilePath = f'../data/美丽中国 - {num}.json'\n",
    "OutFilePath = f'../data/episode{num}.pkl'"
   ]
  },
  {
   "cell_type": "markdown",
   "metadata": {},
   "source": [
    "## 数据读取"
   ]
  },
  {
   "cell_type": "code",
   "execution_count": 52,
   "metadata": {},
   "outputs": [],
   "source": [
    "data = pd.read_json(DataFilePath)"
   ]
  },
  {
   "cell_type": "markdown",
   "metadata": {},
   "source": [
    "## 函数工具"
   ]
  },
  {
   "cell_type": "code",
   "execution_count": 53,
   "metadata": {},
   "outputs": [],
   "source": [
    "def get_new_path(old_path, new_tag):\n",
    "    path_list = old_path.split('.')\n",
    "    path_list[0] += new_tag\n",
    "    return '.'.join(path_list)"
   ]
  },
  {
   "cell_type": "markdown",
   "metadata": {},
   "source": [
    "## 数据处理"
   ]
  },
  {
   "cell_type": "code",
   "execution_count": 54,
   "metadata": {},
   "outputs": [],
   "source": [
    "data = data[data['progress'].notna()]\n",
    "data.sort_values(by='progress',inplace=True)\n",
    "data = data.reset_index(drop=True)\n",
    "data['progress'] = data['progress'].astype('Int64')"
   ]
  },
  {
   "cell_type": "code",
   "execution_count": 55,
   "metadata": {},
   "outputs": [],
   "source": [
    "# time_step = 30*1000\n",
    "# bin = range(0, data['progress'].iloc[-1]+time_step, time_step)\n",
    "# data['progress_group']=pd.cut(data['progress'],bin,right=False)"
   ]
  },
  {
   "cell_type": "code",
   "execution_count": 56,
   "metadata": {},
   "outputs": [],
   "source": [
    "# data.groupby('progress_group').agg('count')"
   ]
  },
  {
   "cell_type": "markdown",
   "metadata": {},
   "source": [
    "## 数据展示"
   ]
  },
  {
   "cell_type": "code",
   "execution_count": 57,
   "metadata": {},
   "outputs": [
    {
     "data": {
      "text/html": [
       "<div>\n",
       "<style scoped>\n",
       "    .dataframe tbody tr th:only-of-type {\n",
       "        vertical-align: middle;\n",
       "    }\n",
       "\n",
       "    .dataframe tbody tr th {\n",
       "        vertical-align: top;\n",
       "    }\n",
       "\n",
       "    .dataframe thead th {\n",
       "        text-align: right;\n",
       "    }\n",
       "</style>\n",
       "<table border=\"1\" class=\"dataframe\">\n",
       "  <thead>\n",
       "    <tr style=\"text-align: right;\">\n",
       "      <th></th>\n",
       "      <th>id</th>\n",
       "      <th>progress</th>\n",
       "      <th>mode</th>\n",
       "      <th>fontsize</th>\n",
       "      <th>color</th>\n",
       "      <th>midHash</th>\n",
       "      <th>content</th>\n",
       "      <th>ctime</th>\n",
       "      <th>weight</th>\n",
       "      <th>idStr</th>\n",
       "      <th>attr</th>\n",
       "    </tr>\n",
       "  </thead>\n",
       "  <tbody>\n",
       "    <tr>\n",
       "      <th>0</th>\n",
       "      <td>22386026610688000</td>\n",
       "      <td>338</td>\n",
       "      <td>1</td>\n",
       "      <td>25</td>\n",
       "      <td>15138834</td>\n",
       "      <td>dd96fbd7</td>\n",
       "      <td>高二一班前来报道</td>\n",
       "      <td>1569840132</td>\n",
       "      <td>9</td>\n",
       "      <td>22386026610688000</td>\n",
       "      <td>NaN</td>\n",
       "    </tr>\n",
       "    <tr>\n",
       "      <th>1</th>\n",
       "      <td>19895221580988420</td>\n",
       "      <td>4940</td>\n",
       "      <td>1</td>\n",
       "      <td>25</td>\n",
       "      <td>16777215</td>\n",
       "      <td>e689c145</td>\n",
       "      <td>任家路中学来报道</td>\n",
       "      <td>1565089298</td>\n",
       "      <td>8</td>\n",
       "      <td>19895221580988420</td>\n",
       "      <td>NaN</td>\n",
       "    </tr>\n",
       "    <tr>\n",
       "      <th>2</th>\n",
       "      <td>44205748360577030</td>\n",
       "      <td>4940</td>\n",
       "      <td>1</td>\n",
       "      <td>25</td>\n",
       "      <td>16777215</td>\n",
       "      <td>a0a10a05</td>\n",
       "      <td>最喜欢海</td>\n",
       "      <td>1611457948</td>\n",
       "      <td>1</td>\n",
       "      <td>44205748360577032</td>\n",
       "      <td>NaN</td>\n",
       "    </tr>\n",
       "    <tr>\n",
       "      <th>3</th>\n",
       "      <td>46428083725008900</td>\n",
       "      <td>5039</td>\n",
       "      <td>1</td>\n",
       "      <td>25</td>\n",
       "      <td>11890</td>\n",
       "      <td>c4da4e5a</td>\n",
       "      <td>最后一集</td>\n",
       "      <td>1615696717</td>\n",
       "      <td>5</td>\n",
       "      <td>46428083725008896</td>\n",
       "      <td>NaN</td>\n",
       "    </tr>\n",
       "    <tr>\n",
       "      <th>4</th>\n",
       "      <td>19482071511597056</td>\n",
       "      <td>5838</td>\n",
       "      <td>1</td>\n",
       "      <td>25</td>\n",
       "      <td>16777215</td>\n",
       "      <td>bbb8eed4</td>\n",
       "      <td>大家好，我是沙雕大队长</td>\n",
       "      <td>1564301277</td>\n",
       "      <td>1</td>\n",
       "      <td>19482071511597056</td>\n",
       "      <td>NaN</td>\n",
       "    </tr>\n",
       "    <tr>\n",
       "      <th>...</th>\n",
       "      <td>...</td>\n",
       "      <td>...</td>\n",
       "      <td>...</td>\n",
       "      <td>...</td>\n",
       "      <td>...</td>\n",
       "      <td>...</td>\n",
       "      <td>...</td>\n",
       "      <td>...</td>\n",
       "      <td>...</td>\n",
       "      <td>...</td>\n",
       "      <td>...</td>\n",
       "    </tr>\n",
       "    <tr>\n",
       "      <th>1589</th>\n",
       "      <td>23959935321112576</td>\n",
       "      <td>3352423</td>\n",
       "      <td>1</td>\n",
       "      <td>25</td>\n",
       "      <td>16777215</td>\n",
       "      <td>42206543</td>\n",
       "      <td>我爱这片土地爱得深沉</td>\n",
       "      <td>1572842124</td>\n",
       "      <td>11</td>\n",
       "      <td>23959935321112576</td>\n",
       "      <td>NaN</td>\n",
       "    </tr>\n",
       "    <tr>\n",
       "      <th>1590</th>\n",
       "      <td>53346439952292350</td>\n",
       "      <td>3355298</td>\n",
       "      <td>1</td>\n",
       "      <td>25</td>\n",
       "      <td>15138834</td>\n",
       "      <td>352e3bb6</td>\n",
       "      <td>21.8.13xxy</td>\n",
       "      <td>1628841459</td>\n",
       "      <td>1</td>\n",
       "      <td>53346439952292352</td>\n",
       "      <td>NaN</td>\n",
       "    </tr>\n",
       "    <tr>\n",
       "      <th>1591</th>\n",
       "      <td>22283903581028356</td>\n",
       "      <td>3359382</td>\n",
       "      <td>1</td>\n",
       "      <td>25</td>\n",
       "      <td>16777215</td>\n",
       "      <td>27d3643a</td>\n",
       "      <td>我和我的祖国</td>\n",
       "      <td>1569645348</td>\n",
       "      <td>10</td>\n",
       "      <td>22283903581028356</td>\n",
       "      <td>NaN</td>\n",
       "    </tr>\n",
       "    <tr>\n",
       "      <th>1592</th>\n",
       "      <td>30168976436756484</td>\n",
       "      <td>3360281</td>\n",
       "      <td>1</td>\n",
       "      <td>25</td>\n",
       "      <td>16777215</td>\n",
       "      <td>6acb0f0e</td>\n",
       "      <td>我爱中国</td>\n",
       "      <td>1584684931</td>\n",
       "      <td>5</td>\n",
       "      <td>30168976436756484</td>\n",
       "      <td>NaN</td>\n",
       "    </tr>\n",
       "    <tr>\n",
       "      <th>1593</th>\n",
       "      <td>22378729717628930</td>\n",
       "      <td>3360283</td>\n",
       "      <td>1</td>\n",
       "      <td>25</td>\n",
       "      <td>16777215</td>\n",
       "      <td>8767eea6</td>\n",
       "      <td>祖国七十</td>\n",
       "      <td>1569826214</td>\n",
       "      <td>11</td>\n",
       "      <td>22378729717628928</td>\n",
       "      <td>NaN</td>\n",
       "    </tr>\n",
       "  </tbody>\n",
       "</table>\n",
       "<p>1594 rows × 11 columns</p>\n",
       "</div>"
      ],
      "text/plain": [
       "                     id  progress  mode  fontsize     color   midHash  \\\n",
       "0     22386026610688000       338     1        25  15138834  dd96fbd7   \n",
       "1     19895221580988420      4940     1        25  16777215  e689c145   \n",
       "2     44205748360577030      4940     1        25  16777215  a0a10a05   \n",
       "3     46428083725008900      5039     1        25     11890  c4da4e5a   \n",
       "4     19482071511597056      5838     1        25  16777215  bbb8eed4   \n",
       "...                 ...       ...   ...       ...       ...       ...   \n",
       "1589  23959935321112576   3352423     1        25  16777215  42206543   \n",
       "1590  53346439952292350   3355298     1        25  15138834  352e3bb6   \n",
       "1591  22283903581028356   3359382     1        25  16777215  27d3643a   \n",
       "1592  30168976436756484   3360281     1        25  16777215  6acb0f0e   \n",
       "1593  22378729717628930   3360283     1        25  16777215  8767eea6   \n",
       "\n",
       "          content       ctime  weight              idStr  attr  \n",
       "0        高二一班前来报道  1569840132       9  22386026610688000   NaN  \n",
       "1        任家路中学来报道  1565089298       8  19895221580988420   NaN  \n",
       "2            最喜欢海  1611457948       1  44205748360577032   NaN  \n",
       "3            最后一集  1615696717       5  46428083725008896   NaN  \n",
       "4     大家好，我是沙雕大队长  1564301277       1  19482071511597056   NaN  \n",
       "...           ...         ...     ...                ...   ...  \n",
       "1589   我爱这片土地爱得深沉  1572842124      11  23959935321112576   NaN  \n",
       "1590   21.8.13xxy  1628841459       1  53346439952292352   NaN  \n",
       "1591       我和我的祖国  1569645348      10  22283903581028356   NaN  \n",
       "1592         我爱中国  1584684931       5  30168976436756484   NaN  \n",
       "1593         祖国七十  1569826214      11  22378729717628928   NaN  \n",
       "\n",
       "[1594 rows x 11 columns]"
      ]
     },
     "execution_count": 57,
     "metadata": {},
     "output_type": "execute_result"
    }
   ],
   "source": [
    "data"
   ]
  },
  {
   "cell_type": "markdown",
   "metadata": {},
   "source": [
    "## 数据保存"
   ]
  },
  {
   "cell_type": "code",
   "execution_count": 58,
   "metadata": {},
   "outputs": [],
   "source": [
    "data.to_pickle(OutFilePath)"
   ]
  }
 ],
 "metadata": {
  "kernelspec": {
   "display_name": "Python 3.11.0 64-bit ('NLP_basic')",
   "language": "python",
   "name": "python3"
  },
  "language_info": {
   "codemirror_mode": {
    "name": "ipython",
    "version": 3
   },
   "file_extension": ".py",
   "mimetype": "text/x-python",
   "name": "python",
   "nbconvert_exporter": "python",
   "pygments_lexer": "ipython3",
   "version": "3.11.0"
  },
  "orig_nbformat": 4,
  "vscode": {
   "interpreter": {
    "hash": "079e56311600030aea161f73c27f984888490b25ad0ceac64419b7055e9af638"
   }
  }
 },
 "nbformat": 4,
 "nbformat_minor": 2
}
