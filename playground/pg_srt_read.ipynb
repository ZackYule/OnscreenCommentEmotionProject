{
 "cells": [
  {
   "cell_type": "code",
   "execution_count": 2,
   "metadata": {},
   "outputs": [],
   "source": [
    "import sys\n",
    "sys.path.append(\"..\")\n",
    "import numpy as np\n",
    "import pandas as pd\n",
    "import pysubs2"
   ]
  },
  {
   "cell_type": "code",
   "execution_count": 5,
   "metadata": {},
   "outputs": [],
   "source": [
    "subs = pysubs2.load(\"../data/subtitles/美丽中国.Wild.China.EP1.chs.srt\")"
   ]
  },
  {
   "cell_type": "code",
   "execution_count": 6,
   "metadata": {},
   "outputs": [],
   "source": [
    "texts = [sub.plaintext for sub in subs]\n",
    "time_start = [sub.start for sub in subs]\n",
    "time_end = [sub.end for sub in subs]"
   ]
  },
  {
   "cell_type": "code",
   "execution_count": 11,
   "metadata": {},
   "outputs": [],
   "source": [
    "data = pd.DataFrame({'content':texts,'progress':time_start,'progress_end':time_end})"
   ]
  },
  {
   "cell_type": "code",
   "execution_count": 12,
   "metadata": {},
   "outputs": [
    {
     "data": {
      "text/html": [
       "<div>\n",
       "<style scoped>\n",
       "    .dataframe tbody tr th:only-of-type {\n",
       "        vertical-align: middle;\n",
       "    }\n",
       "\n",
       "    .dataframe tbody tr th {\n",
       "        vertical-align: top;\n",
       "    }\n",
       "\n",
       "    .dataframe thead th {\n",
       "        text-align: right;\n",
       "    }\n",
       "</style>\n",
       "<table border=\"1\" class=\"dataframe\">\n",
       "  <thead>\n",
       "    <tr style=\"text-align: right;\">\n",
       "      <th></th>\n",
       "      <th>content</th>\n",
       "      <th>progress</th>\n",
       "      <th>progress_end</th>\n",
       "    </tr>\n",
       "  </thead>\n",
       "  <tbody>\n",
       "    <tr>\n",
       "      <th>0</th>\n",
       "      <td>节目 2008\\n字幕 2019</td>\n",
       "      <td>0</td>\n",
       "      <td>3000</td>\n",
       "    </tr>\n",
       "    <tr>\n",
       "      <th>1</th>\n",
       "      <td>最后的隐秘世界</td>\n",
       "      <td>5973</td>\n",
       "      <td>8075</td>\n",
       "    </tr>\n",
       "    <tr>\n",
       "      <th>2</th>\n",
       "      <td>中国</td>\n",
       "      <td>9610</td>\n",
       "      <td>11278</td>\n",
       "    </tr>\n",
       "    <tr>\n",
       "      <th>3</th>\n",
       "      <td>几百年以来，到过中国的游客\\n一直讲述着中国迷人的风景</td>\n",
       "      <td>13547</td>\n",
       "      <td>18818</td>\n",
       "    </tr>\n",
       "    <tr>\n",
       "      <th>4</th>\n",
       "      <td>及令人惊叹的珍禽异兽</td>\n",
       "      <td>20587</td>\n",
       "      <td>22723</td>\n",
       "    </tr>\n",
       "    <tr>\n",
       "      <th>...</th>\n",
       "      <td>...</td>\n",
       "      <td>...</td>\n",
       "      <td>...</td>\n",
       "    </tr>\n",
       "    <tr>\n",
       "      <th>520</th>\n",
       "      <td>然而，如果说中国留下了什么证据，</td>\n",
       "      <td>3484900</td>\n",
       "      <td>3488536</td>\n",
       "    </tr>\n",
       "    <tr>\n",
       "      <th>521</th>\n",
       "      <td>那就是：野生动物有惊人的恢复力</td>\n",
       "      <td>3488636</td>\n",
       "      <td>3491773</td>\n",
       "    </tr>\n",
       "    <tr>\n",
       "      <th>522</th>\n",
       "      <td>只要得到正确的帮助</td>\n",
       "      <td>3492088</td>\n",
       "      <td>3494023</td>\n",
       "    </tr>\n",
       "    <tr>\n",
       "      <th>523</th>\n",
       "      <td>即使是最稀有的动物\\n也能从濒危的边缘恢复过来</td>\n",
       "      <td>3494130</td>\n",
       "      <td>3498600</td>\n",
       "    </tr>\n",
       "    <tr>\n",
       "      <th>524</th>\n",
       "      <td>只要我们展现意愿，自然会找到出路</td>\n",
       "      <td>3500400</td>\n",
       "      <td>3505537</td>\n",
       "    </tr>\n",
       "  </tbody>\n",
       "</table>\n",
       "<p>525 rows × 3 columns</p>\n",
       "</div>"
      ],
      "text/plain": [
       "                         content  progress  progress_end\n",
       "0               节目 2008\\n字幕 2019         0          3000\n",
       "1                        最后的隐秘世界      5973          8075\n",
       "2                             中国      9610         11278\n",
       "3    几百年以来，到过中国的游客\\n一直讲述着中国迷人的风景     13547         18818\n",
       "4                     及令人惊叹的珍禽异兽     20587         22723\n",
       "..                           ...       ...           ...\n",
       "520             然而，如果说中国留下了什么证据，   3484900       3488536\n",
       "521              那就是：野生动物有惊人的恢复力   3488636       3491773\n",
       "522                    只要得到正确的帮助   3492088       3494023\n",
       "523      即使是最稀有的动物\\n也能从濒危的边缘恢复过来   3494130       3498600\n",
       "524             只要我们展现意愿，自然会找到出路   3500400       3505537\n",
       "\n",
       "[525 rows x 3 columns]"
      ]
     },
     "execution_count": 12,
     "metadata": {},
     "output_type": "execute_result"
    }
   ],
   "source": [
    "data"
   ]
  },
  {
   "cell_type": "code",
   "execution_count": 16,
   "metadata": {},
   "outputs": [
    {
     "data": {
      "text/plain": [
       "'0:33:11'"
      ]
     },
     "execution_count": 16,
     "metadata": {},
     "output_type": "execute_result"
    }
   ],
   "source": [
    "pysubs2.time.ms_to_str(subs[300].start)"
   ]
  },
  {
   "cell_type": "code",
   "execution_count": 17,
   "metadata": {},
   "outputs": [
    {
     "data": {
      "text/plain": [
       "'0:33:13'"
      ]
     },
     "execution_count": 17,
     "metadata": {},
     "output_type": "execute_result"
    }
   ],
   "source": [
    "pysubs2.time.ms_to_str(subs[300].end)"
   ]
  }
 ],
 "metadata": {
  "kernelspec": {
   "display_name": "Python 3.11.0 64-bit ('NLP_basic')",
   "language": "python",
   "name": "python3"
  },
  "language_info": {
   "codemirror_mode": {
    "name": "ipython",
    "version": 3
   },
   "file_extension": ".py",
   "mimetype": "text/x-python",
   "name": "python",
   "nbconvert_exporter": "python",
   "pygments_lexer": "ipython3",
   "version": "3.11.0"
  },
  "orig_nbformat": 4,
  "vscode": {
   "interpreter": {
    "hash": "079e56311600030aea161f73c27f984888490b25ad0ceac64419b7055e9af638"
   }
  }
 },
 "nbformat": 4,
 "nbformat_minor": 2
}
