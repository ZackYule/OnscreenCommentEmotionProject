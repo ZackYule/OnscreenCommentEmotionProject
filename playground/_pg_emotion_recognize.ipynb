{
 "cells": [
  {
   "cell_type": "markdown",
   "metadata": {},
   "source": [
    "# 情感分析（使用baidu-api）"
   ]
  },
  {
   "cell_type": "markdown",
   "metadata": {},
   "source": [
    "## 预处理"
   ]
  },
  {
   "cell_type": "code",
   "execution_count": 136,
   "metadata": {},
   "outputs": [],
   "source": [
    "import pandas as pd\n",
    "from aip import AipNlp\n",
    "import time"
   ]
  },
  {
   "cell_type": "code",
   "execution_count": 137,
   "metadata": {},
   "outputs": [],
   "source": [
    "APP_ID = ''\n",
    "API_KEY = ''\n",
    "SECRET_KEY = ''\n",
    "client = AipNlp(APP_ID, API_KEY, SECRET_KEY)"
   ]
  },
  {
   "cell_type": "code",
   "execution_count": 138,
   "metadata": {},
   "outputs": [],
   "source": [
    "DataFilePath = '../data/episode6.pkl'"
   ]
  },
  {
   "cell_type": "markdown",
   "metadata": {},
   "source": [
    "## 函数工具"
   ]
  },
  {
   "cell_type": "code",
   "execution_count": 162,
   "metadata": {},
   "outputs": [],
   "source": [
    "def content_clean(text):\n",
    "    res = text.replace('\\xb4', '')\n",
    "    return res"
   ]
  },
  {
   "cell_type": "code",
   "execution_count": 140,
   "metadata": {},
   "outputs": [],
   "source": [
    "def apply_and_concat(df, field, func, args, column_names):\n",
    "    return pd.concat((\n",
    "        df,\n",
    "        df[field].apply(\n",
    "            lambda cell: pd.Series(func(cell, *args), index=column_names))), axis=1)"
   ]
  },
  {
   "cell_type": "code",
   "execution_count": 155,
   "metadata": {},
   "outputs": [],
   "source": [
    "def get_new_path(old_path, new_tag):\n",
    "    path_list = old_path.rsplit('.', 1)\n",
    "    path_list[0] += '_'+new_tag\n",
    "    return '.'.join(path_list)"
   ]
  },
  {
   "cell_type": "code",
   "execution_count": 142,
   "metadata": {},
   "outputs": [],
   "source": [
    "def get_sentiment_result(text, client):\n",
    "    # return {'confidence': 0.1, 'negative_prob': 0.2, 'positive_prob': 0.3, 'sentiment': 0}\n",
    "    result = client.sentimentClassify(text)\n",
    "    if 'items' in result and len(result['items']) > 0:\n",
    "        return result['items'][0]\n",
    "    return None"
   ]
  },
  {
   "cell_type": "code",
   "execution_count": 184,
   "metadata": {},
   "outputs": [],
   "source": [
    "def get_sentiment_data_frame(df, content_column_name, client):\n",
    "    sentiment_data = []\n",
    "    for i, content in df[content_column_name].items():\n",
    "        try:\n",
    "            sentiment_item = get_sentiment_result(content, client)\n",
    "        except Exception as err:\n",
    "            print(f'🌈GET_SENTIMENT_ERROR!!--->{err=}, {type(err)=}')\n",
    "            sentiment_item = {'index':pd.NA, 'confidence': pd.NA, 'negative_prob': pd.NA, 'positive_prob': pd.NA, 'sentiment': pd.NA, 'sentiment_processed': 0}\n",
    "        if sentiment_item:\n",
    "                sentiment_item['index'] = i     \n",
    "        else:\n",
    "            sentiment_item = {'index':pd.NA, 'confidence': pd.NA, 'negative_prob': pd.NA, 'positive_prob': pd.NA, 'sentiment': pd.NA, 'sentiment_processed': 1}\n",
    "        sentiment_data.append(sentiment_item)\n",
    "        time.sleep(0.5)\n",
    "    return df.join(pd.DataFrame(data=sentiment_data).set_index('index',drop=True))"
   ]
  },
  {
   "cell_type": "code",
   "execution_count": 211,
   "metadata": {},
   "outputs": [],
   "source": [
    "def supplement_sentiment_data_frame(df, content_column_name, client):\n",
    "    sentiment_data = []\n",
    "    for i, content in df[df[content_column_name+'_processed'] == 0][content_column_name].items():\n",
    "        try:\n",
    "            sentiment_item = get_sentiment_result(content, client)\n",
    "        except Exception as err:\n",
    "            print(f'🌈GET_SENTIMENT_ERROR!!--->{err=}, {type(err)=}')\n",
    "            sentiment_item = {'index':pd.NA, 'confidence': pd.NA, 'negative_prob': pd.NA, 'positive_prob': pd.NA, 'sentiment': pd.NA, 'sentiment_processed': 0}\n",
    "        if sentiment_item:\n",
    "                sentiment_item['index'] = i     \n",
    "        else:\n",
    "            sentiment_item = {'index':pd.NA, 'confidence': pd.NA, 'negative_prob': pd.NA, 'positive_prob': pd.NA, 'sentiment': pd.NA, 'sentiment_processed': 1}\n",
    "        sentiment_data.append(sentiment_item)\n",
    "        time.sleep(0.5)\n",
    "    supplementary_sentiment_data_frame = pd.DataFrame(data=sentiment_data).set_index('index',drop=True)\n",
    "    df.loc[df[df['sentiment_processed'] == 0].index, ['confidence','negative_prob','positive_prob','sentiment', 'sentiment_processed']] = supplementary_sentiment_data_frame[['confidence','negative_prob','positive_prob','sentiment', 'sentiment_processed']]\n",
    "    return df"
   ]
  },
  {
   "cell_type": "markdown",
   "metadata": {},
   "source": [
    "## 数据读取"
   ]
  },
  {
   "cell_type": "code",
   "execution_count": 208,
   "metadata": {},
   "outputs": [],
   "source": [
    "data = pd.read_pickle(DataFilePath)"
   ]
  },
  {
   "cell_type": "markdown",
   "metadata": {},
   "source": [
    "## 数据处理"
   ]
  },
  {
   "cell_type": "code",
   "execution_count": 166,
   "metadata": {},
   "outputs": [],
   "source": [
    "data['content'] = data['content'].apply(content_clean)"
   ]
  },
  {
   "cell_type": "code",
   "execution_count": 168,
   "metadata": {},
   "outputs": [
    {
     "name": "stdout",
     "output_type": "stream",
     "text": [
      "🌈GET_SENTIMENT_ERROR!!---<class 'Exception'>\n",
      "🌈GET_SENTIMENT_ERROR!!---<class 'Exception'>\n",
      "🌈GET_SENTIMENT_ERROR!!---<class 'Exception'>\n",
      "🌈GET_SENTIMENT_ERROR!!---<class 'Exception'>\n",
      "🌈GET_SENTIMENT_ERROR!!---<class 'Exception'>\n",
      "🌈GET_SENTIMENT_ERROR!!---<class 'Exception'>\n",
      "🌈GET_SENTIMENT_ERROR!!---<class 'Exception'>\n",
      "🌈GET_SENTIMENT_ERROR!!---<class 'Exception'>\n",
      "🌈GET_SENTIMENT_ERROR!!---<class 'Exception'>\n",
      "🌈GET_SENTIMENT_ERROR!!---<class 'Exception'>\n",
      "🌈GET_SENTIMENT_ERROR!!---<class 'Exception'>\n",
      "🌈GET_SENTIMENT_ERROR!!---<class 'Exception'>\n"
     ]
    }
   ],
   "source": [
    "data = get_sentiment_data_frame(data, 'content', client)"
   ]
  },
  {
   "cell_type": "markdown",
   "metadata": {},
   "source": [
    "## 数据展示"
   ]
  },
  {
   "cell_type": "code",
   "execution_count": 210,
   "metadata": {},
   "outputs": [
    {
     "data": {
      "text/plain": [
       "id               1606\n",
       "progress         1606\n",
       "mode             1606\n",
       "fontsize         1606\n",
       "color            1606\n",
       "midHash          1606\n",
       "content          1606\n",
       "ctime            1606\n",
       "weight           1606\n",
       "idStr            1606\n",
       "attr               16\n",
       "confidence       1597\n",
       "negative_prob    1597\n",
       "positive_prob    1597\n",
       "sentiment        1597\n",
       "dtype: int64"
      ]
     },
     "execution_count": 210,
     "metadata": {},
     "output_type": "execute_result"
    }
   ],
   "source": [
    "data.count()"
   ]
  },
  {
   "cell_type": "markdown",
   "metadata": {},
   "source": [
    "## 数据保存"
   ]
  },
  {
   "cell_type": "code",
   "execution_count": 206,
   "metadata": {},
   "outputs": [],
   "source": [
    "OutFilePath = get_new_path(DataFilePath, 'sentiment')"
   ]
  },
  {
   "cell_type": "code",
   "execution_count": 207,
   "metadata": {},
   "outputs": [],
   "source": [
    "data.to_pickle(OutFilePath)"
   ]
  }
 ],
 "metadata": {
  "kernelspec": {
   "display_name": "Python 3.11.0 64-bit ('NLP_basic')",
   "language": "python",
   "name": "python3"
  },
  "language_info": {
   "codemirror_mode": {
    "name": "ipython",
    "version": 3
   },
   "file_extension": ".py",
   "mimetype": "text/x-python",
   "name": "python",
   "nbconvert_exporter": "python",
   "pygments_lexer": "ipython3",
   "version": "3.11.0"
  },
  "orig_nbformat": 4,
  "vscode": {
   "interpreter": {
    "hash": "079e56311600030aea161f73c27f984888490b25ad0ceac64419b7055e9af638"
   }
  }
 },
 "nbformat": 4,
 "nbformat_minor": 2
}
